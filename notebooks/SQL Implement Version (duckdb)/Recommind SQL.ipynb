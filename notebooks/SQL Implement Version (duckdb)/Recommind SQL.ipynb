{
 "cells": [
  {
   "cell_type": "code",
   "execution_count": 2,
   "id": "7bac556f",
   "metadata": {
    "_cell_guid": "b1076dfc-b9ad-4769-8c92-a6c4dae69d19",
    "_uuid": "8f2839f25d086af736a60e9eeb907d3b93b6e0e5",
    "execution": {
     "iopub.execute_input": "2025-07-04T21:37:27.985303Z",
     "iopub.status.busy": "2025-07-04T21:37:27.985064Z",
     "iopub.status.idle": "2025-07-04T21:37:58.980357Z",
     "shell.execute_reply": "2025-07-04T21:37:58.979746Z"
    },
    "papermill": {
     "duration": 31.004934,
     "end_time": "2025-07-04T21:37:58.981652",
     "exception": false,
     "start_time": "2025-07-04T21:37:27.976718",
     "status": "completed"
    },
    "tags": []
   },
   "outputs": [],
   "source": [
    "\n",
    "# Data treatment\n",
    "\n",
    "import numpy as np # linear algebra\n",
    "import polars as pl # data processing, CSV file I/O (e.g. pd.read_csv)\n",
    "import pandas as pd\n",
    "import duckdb\n",
    "\n",
    "# OS and Dotenv\n",
    "\n",
    "from dotenv import load_dotenv\n",
    "import os\n",
    "load_dotenv()  \n",
    "\n",
    "# Deep Learning\n",
    "\n",
    "import torch                  \n",
    "import torch.nn as nn          \n",
    "import torch.nn.functional as F  \n",
    "import torch.optim as optim  \n",
    "from torch.optim.lr_scheduler import StepLR\n",
    "from torch.utils.data import DataLoader, Dataset, TensorDataset\n",
    "\n",
    "# GPU\n",
    "device = torch.device(\"cuda\" if torch.cuda.is_available() else \"cpu\")\n"
   ]
  },
  {
   "cell_type": "code",
   "execution_count": 3,
   "id": "9d90060c",
   "metadata": {},
   "outputs": [
    {
     "name": "stdout",
     "output_type": "stream",
     "text": [
      "                                                     Title  \\\n",
      "0        Dr. Richard Marrs' Fertility Book: America's L...   \n",
      "1        Sisterchicks on the Loose! (Sisterchicks Serie...   \n",
      "2                                          Vagina Warriors   \n",
      "3        Fifteen sermons preached before the University...   \n",
      "4        Prosser, Wade and Scwartz's Torts Cases and Ma...   \n",
      "...                                                    ...   \n",
      "2999787                Killing Floor (Jack Reacher, No. 1)   \n",
      "2999788                Killing Floor (Jack Reacher, No. 1)   \n",
      "2999789                Killing Floor (Jack Reacher, No. 1)   \n",
      "2999790                Killing Floor (Jack Reacher, No. 1)   \n",
      "2999791                Killing Floor (Jack Reacher, No. 1)   \n",
      "\n",
      "                   categories                           authors  \n",
      "0        ['Health & Fitness']                 ['Richard Marrs']  \n",
      "1                 ['Fiction']              ['Robin Jones Gunn']  \n",
      "2             ['Photography']  ['Eve Ensler', 'Joyce Tenneson']  \n",
      "3                 ['Sermons']       ['Saint John Henry Newman']  \n",
      "4                     ['Law']         ['Casenote Legal Briefs']  \n",
      "...                       ...                               ...  \n",
      "2999787                  None                              None  \n",
      "2999788                  None                              None  \n",
      "2999789                  None                              None  \n",
      "2999790                  None                              None  \n",
      "2999791                  None                              None  \n",
      "\n",
      "[2999792 rows x 3 columns]\n"
     ]
    }
   ],
   "source": [
    "import duckdb\n",
    "import polars as pl\n",
    "from dotenv import load_dotenv\n",
    "import os\n",
    "load_dotenv()  \n",
    "\n",
    "\n",
    "## Only the datasets\n",
    "\n",
    "dataset_path = r\"C:\\Users\\lucas\\Documents\\GitHub\\Recommind\\data\\processed\"\n",
    "\n",
    "\n",
    "\n",
    "dataset_ratings = os.path.join(dataset_path, \"Books_rating.csv\")\n",
    "dataset_books = os.path.join(dataset_path, \"books_data.csv\")\n",
    "\n",
    "\n",
    "books_data = pl.read_csv(dataset_books)\n",
    "ratings = pl.read_csv(dataset_ratings)\n",
    "\n",
    "# Register the DataFrames as DuckDB tables\n",
    "con = duckdb.connect()\n",
    "con.register('books_data', books_data)\n",
    "con.register('ratings', ratings)\n",
    "\n",
    "query = \"\"\"\n",
    "SELECT\n",
    "  books_data.Title,\n",
    "  books_data.categories,\n",
    "  books_data.authors\n",
    "FROM books_data\n",
    "JOIN ratings\n",
    "  ON books_data.Title = ratings.Title;\n",
    "\"\"\"\n",
    "\n",
    "result = con.execute(query).fetchdf()\n",
    "print(result)\n",
    "\n",
    "\n",
    "\n"
   ]
  },
  {
   "cell_type": "code",
   "execution_count": 4,
   "id": "0de20b86",
   "metadata": {},
   "outputs": [
    {
     "data": {
      "application/vnd.jupyter.widget-view+json": {
       "model_id": "e9a6b19b713c4090a19c675a3ae5583b",
       "version_major": 2,
       "version_minor": 0
      },
      "text/plain": [
       "FloatProgress(value=0.0, layout=Layout(width='auto'), style=ProgressStyle(bar_color='black'))"
      ]
     },
     "metadata": {},
     "output_type": "display_data"
    },
    {
     "ename": "BinderException",
     "evalue": "Binder Error: Table \"ratings\" does not have a column named \"Rating\"\n\nCandidate bindings: : \"Id\"\n\nLINE 4:   ratings.Rating\n          ^",
     "output_type": "error",
     "traceback": [
      "\u001b[1;31m---------------------------------------------------------------------------\u001b[0m",
      "\u001b[1;31mBinderException\u001b[0m                           Traceback (most recent call last)",
      "\u001b[1;32mc:\\Users\\lucas\\Documents\\GitHub\\Recommind\\notebooks\\Recommind SQL.ipynb Cell 3\u001b[0m line \u001b[0;36m2\n\u001b[0;32m     <a href='vscode-notebook-cell:/c%3A/Users/lucas/Documents/GitHub/Recommind/notebooks/Recommind%20SQL.ipynb#X56sZmlsZQ%3D%3D?line=15'>16</a>\u001b[0m con\u001b[39m.\u001b[39mexecute(\u001b[39mf\u001b[39m\u001b[39m\"\"\"\u001b[39m\n\u001b[0;32m     <a href='vscode-notebook-cell:/c%3A/Users/lucas/Documents/GitHub/Recommind/notebooks/Recommind%20SQL.ipynb#X56sZmlsZQ%3D%3D?line=16'>17</a>\u001b[0m \u001b[39mCREATE OR REPLACE TABLE ratings AS\u001b[39m\n\u001b[0;32m     <a href='vscode-notebook-cell:/c%3A/Users/lucas/Documents/GitHub/Recommind/notebooks/Recommind%20SQL.ipynb#X56sZmlsZQ%3D%3D?line=17'>18</a>\u001b[0m \u001b[39mSELECT * FROM read_csv_auto(\u001b[39m\u001b[39m'\u001b[39m\u001b[39m{\u001b[39;00mdataset_ratings\u001b[39m}\u001b[39;00m\u001b[39m'\u001b[39m\u001b[39m);\u001b[39m\n\u001b[0;32m     <a href='vscode-notebook-cell:/c%3A/Users/lucas/Documents/GitHub/Recommind/notebooks/Recommind%20SQL.ipynb#X56sZmlsZQ%3D%3D?line=18'>19</a>\u001b[0m \u001b[39m\"\"\"\u001b[39m)\n\u001b[0;32m     <a href='vscode-notebook-cell:/c%3A/Users/lucas/Documents/GitHub/Recommind/notebooks/Recommind%20SQL.ipynb#X56sZmlsZQ%3D%3D?line=20'>21</a>\u001b[0m \u001b[39m# Executa a query\u001b[39;00m\n\u001b[1;32m---> <a href='vscode-notebook-cell:/c%3A/Users/lucas/Documents/GitHub/Recommind/notebooks/Recommind%20SQL.ipynb#X56sZmlsZQ%3D%3D?line=21'>22</a>\u001b[0m result \u001b[39m=\u001b[39m con\u001b[39m.\u001b[39mexecute(\u001b[39m\"\"\"\u001b[39m\n\u001b[0;32m     <a href='vscode-notebook-cell:/c%3A/Users/lucas/Documents/GitHub/Recommind/notebooks/Recommind%20SQL.ipynb#X56sZmlsZQ%3D%3D?line=22'>23</a>\u001b[0m \u001b[39mSELECT\u001b[39m\n\u001b[0;32m     <a href='vscode-notebook-cell:/c%3A/Users/lucas/Documents/GitHub/Recommind/notebooks/Recommind%20SQL.ipynb#X56sZmlsZQ%3D%3D?line=23'>24</a>\u001b[0m \u001b[39m  books.Title,\u001b[39m\n\u001b[0;32m     <a href='vscode-notebook-cell:/c%3A/Users/lucas/Documents/GitHub/Recommind/notebooks/Recommind%20SQL.ipynb#X56sZmlsZQ%3D%3D?line=24'>25</a>\u001b[0m \u001b[39m  ratings.Rating\u001b[39m\n\u001b[0;32m     <a href='vscode-notebook-cell:/c%3A/Users/lucas/Documents/GitHub/Recommind/notebooks/Recommind%20SQL.ipynb#X56sZmlsZQ%3D%3D?line=25'>26</a>\u001b[0m \u001b[39mFROM books\u001b[39m\n\u001b[0;32m     <a href='vscode-notebook-cell:/c%3A/Users/lucas/Documents/GitHub/Recommind/notebooks/Recommind%20SQL.ipynb#X56sZmlsZQ%3D%3D?line=26'>27</a>\u001b[0m \u001b[39mJOIN ratings ON books.Title = ratings.Title\u001b[39m\n\u001b[0;32m     <a href='vscode-notebook-cell:/c%3A/Users/lucas/Documents/GitHub/Recommind/notebooks/Recommind%20SQL.ipynb#X56sZmlsZQ%3D%3D?line=27'>28</a>\u001b[0m \u001b[39m\"\"\"\u001b[39m)\u001b[39m.\u001b[39mfetchdf()\n\u001b[0;32m     <a href='vscode-notebook-cell:/c%3A/Users/lucas/Documents/GitHub/Recommind/notebooks/Recommind%20SQL.ipynb#X56sZmlsZQ%3D%3D?line=29'>30</a>\u001b[0m \u001b[39m# Exibe resultado (em pandas)\u001b[39;00m\n\u001b[0;32m     <a href='vscode-notebook-cell:/c%3A/Users/lucas/Documents/GitHub/Recommind/notebooks/Recommind%20SQL.ipynb#X56sZmlsZQ%3D%3D?line=30'>31</a>\u001b[0m \u001b[39mprint\u001b[39m(result\u001b[39m.\u001b[39mhead())\n",
      "\u001b[1;31mBinderException\u001b[0m: Binder Error: Table \"ratings\" does not have a column named \"Rating\"\n\nCandidate bindings: : \"Id\"\n\nLINE 4:   ratings.Rating\n          ^"
     ]
    }
   ],
   "source": [
    "import duckdb\n",
    "\n",
    "\n",
    "\n",
    "con = duckdb.connect(\"proto.duckdb\")\n",
    "\n",
    "\n",
    "dataset_ratings = os.path.join(dataset_path, \"Books_rating.csv\")\n",
    "dataset_books = os.path.join(dataset_path, \"books_data.csv\")\n",
    "\n",
    "con.execute(f\"\"\"\n",
    "CREATE OR REPLACE TABLE books AS\n",
    "SELECT * FROM read_csv_auto('{dataset_books}');\n",
    "\"\"\")\n",
    "\n",
    "con.execute(f\"\"\"\n",
    "CREATE OR REPLACE TABLE ratings AS\n",
    "SELECT * FROM read_csv_auto('{dataset_ratings}');\n",
    "\"\"\")\n",
    "\n",
    "result = con.execute(\"\"\"\n",
    "SELECT\n",
    "  books.Title,\n",
    "  ratings.Rating\n",
    "FROM books\n",
    "JOIN ratings ON books.Title = ratings.Title\n",
    "\"\"\").fetchdf()\n",
    "\n",
    "#print(result.head())\n",
    "\n",
    "\n"
   ]
  },
  {
   "cell_type": "code",
   "execution_count": 42,
   "id": "953b8d01",
   "metadata": {},
   "outputs": [
    {
     "data": {
      "text/plain": [
       "(212404, 10)"
      ]
     },
     "execution_count": 42,
     "metadata": {},
     "output_type": "execute_result"
    }
   ],
   "source": [
    "\n",
    "query = \"\"\"\n",
    "SELECT *\n",
    "FROM books\n",
    "\"\"\"\n",
    "\n",
    "con.execute(query).fetchdf().shape\n"
   ]
  },
  {
   "cell_type": "markdown",
   "id": "b1e9c168",
   "metadata": {},
   "source": [
    "books = Title, authors, categories\n",
    "ratings = id, Title, User_id, review/score"
   ]
  },
  {
   "cell_type": "code",
   "execution_count": 44,
   "id": "f5a2f393",
   "metadata": {},
   "outputs": [
    {
     "data": {
      "application/vnd.jupyter.widget-view+json": {
       "model_id": "d6857a2f107a42538f86ef9ccaf849d8",
       "version_major": 2,
       "version_minor": 0
      },
      "text/plain": [
       "FloatProgress(value=0.0, layout=Layout(width='auto'), style=ProgressStyle(bar_color='black'))"
      ]
     },
     "metadata": {},
     "output_type": "display_data"
    },
    {
     "data": {
      "text/plain": [
       "(3000000, 10)"
      ]
     },
     "execution_count": 44,
     "metadata": {},
     "output_type": "execute_result"
    }
   ],
   "source": [
    "query = \"\"\"\n",
    "SELECT *\n",
    "FROM ratings\n",
    "\"\"\"\n",
    "\n",
    "con.execute(query).fetchdf().shape"
   ]
  },
  {
   "cell_type": "code",
   "execution_count": 46,
   "id": "7c6fc849",
   "metadata": {},
   "outputs": [],
   "source": [
    "query = \"\"\"SELECT \n",
    "    b.Title, \n",
    "    b.authors, \n",
    "    b.categories, \n",
    "    r.Id, \n",
    "    r.User_id, \n",
    "    r.\"review/score\",\n",
    "    b.ratingsCount\n",
    "FROM books b\n",
    "JOIN ratings r ON b.Title = r.Title;\"\"\"\n",
    "\n",
    "df_merged = con.execute(query).fetchdf()\n"
   ]
  },
  {
   "cell_type": "code",
   "execution_count": 47,
   "id": "92036ee3",
   "metadata": {
    "execution": {
     "iopub.execute_input": "2025-07-04T21:38:34.335794Z",
     "iopub.status.busy": "2025-07-04T21:38:34.334961Z",
     "iopub.status.idle": "2025-07-04T21:38:34.340528Z",
     "shell.execute_reply": "2025-07-04T21:38:34.340011Z"
    },
    "papermill": {
     "duration": 0.014279,
     "end_time": "2025-07-04T21:38:34.341533",
     "exception": false,
     "start_time": "2025-07-04T21:38:34.327254",
     "status": "completed"
    },
    "tags": []
   },
   "outputs": [
    {
     "data": {
      "text/html": [
       "<div>\n",
       "<style scoped>\n",
       "    .dataframe tbody tr th:only-of-type {\n",
       "        vertical-align: middle;\n",
       "    }\n",
       "\n",
       "    .dataframe tbody tr th {\n",
       "        vertical-align: top;\n",
       "    }\n",
       "\n",
       "    .dataframe thead th {\n",
       "        text-align: right;\n",
       "    }\n",
       "</style>\n",
       "<table border=\"1\" class=\"dataframe\">\n",
       "  <thead>\n",
       "    <tr style=\"text-align: right;\">\n",
       "      <th></th>\n",
       "      <th>Title</th>\n",
       "      <th>authors</th>\n",
       "      <th>categories</th>\n",
       "      <th>Id</th>\n",
       "      <th>User_id</th>\n",
       "      <th>review/score</th>\n",
       "      <th>ratingsCount</th>\n",
       "    </tr>\n",
       "  </thead>\n",
       "  <tbody>\n",
       "    <tr>\n",
       "      <th>0</th>\n",
       "      <td>Never Cry Wolf</td>\n",
       "      <td>['Farley Mowat']</td>\n",
       "      <td>['Animal behavior']</td>\n",
       "      <td>0316586390</td>\n",
       "      <td>A3D5EO8SCPTX9W</td>\n",
       "      <td>5.0</td>\n",
       "      <td>34.0</td>\n",
       "    </tr>\n",
       "    <tr>\n",
       "      <th>1</th>\n",
       "      <td>Never Cry Wolf</td>\n",
       "      <td>['Farley Mowat']</td>\n",
       "      <td>['Animal behavior']</td>\n",
       "      <td>0316586390</td>\n",
       "      <td>A24N8O90K345KV</td>\n",
       "      <td>5.0</td>\n",
       "      <td>34.0</td>\n",
       "    </tr>\n",
       "    <tr>\n",
       "      <th>2</th>\n",
       "      <td>Never Cry Wolf</td>\n",
       "      <td>['Farley Mowat']</td>\n",
       "      <td>['Animal behavior']</td>\n",
       "      <td>0316586390</td>\n",
       "      <td>A2CF0A2HR4OS22</td>\n",
       "      <td>5.0</td>\n",
       "      <td>34.0</td>\n",
       "    </tr>\n",
       "    <tr>\n",
       "      <th>3</th>\n",
       "      <td>Never Cry Wolf</td>\n",
       "      <td>['Farley Mowat']</td>\n",
       "      <td>['Animal behavior']</td>\n",
       "      <td>0316586390</td>\n",
       "      <td>None</td>\n",
       "      <td>5.0</td>\n",
       "      <td>34.0</td>\n",
       "    </tr>\n",
       "    <tr>\n",
       "      <th>4</th>\n",
       "      <td>Never Cry Wolf</td>\n",
       "      <td>['Farley Mowat']</td>\n",
       "      <td>['Animal behavior']</td>\n",
       "      <td>0316586390</td>\n",
       "      <td>A1VXA74UYHCT9E</td>\n",
       "      <td>1.0</td>\n",
       "      <td>34.0</td>\n",
       "    </tr>\n",
       "    <tr>\n",
       "      <th>...</th>\n",
       "      <td>...</td>\n",
       "      <td>...</td>\n",
       "      <td>...</td>\n",
       "      <td>...</td>\n",
       "      <td>...</td>\n",
       "      <td>...</td>\n",
       "      <td>...</td>\n",
       "    </tr>\n",
       "    <tr>\n",
       "      <th>2999787</th>\n",
       "      <td>Perelandra: A Novel</td>\n",
       "      <td>['C.S. Lewis']</td>\n",
       "      <td>['Fiction']</td>\n",
       "      <td>B000HMK1SW</td>\n",
       "      <td>A3P5U20M8V1MEX</td>\n",
       "      <td>5.0</td>\n",
       "      <td>61.0</td>\n",
       "    </tr>\n",
       "    <tr>\n",
       "      <th>2999788</th>\n",
       "      <td>Perelandra: A Novel</td>\n",
       "      <td>['C.S. Lewis']</td>\n",
       "      <td>['Fiction']</td>\n",
       "      <td>B000HMK1SW</td>\n",
       "      <td>APD7XINUVG5AL</td>\n",
       "      <td>5.0</td>\n",
       "      <td>61.0</td>\n",
       "    </tr>\n",
       "    <tr>\n",
       "      <th>2999789</th>\n",
       "      <td>Perelandra: A Novel</td>\n",
       "      <td>['C.S. Lewis']</td>\n",
       "      <td>['Fiction']</td>\n",
       "      <td>B000HMK1SW</td>\n",
       "      <td>A1X4JO8EJ1U5BR</td>\n",
       "      <td>5.0</td>\n",
       "      <td>61.0</td>\n",
       "    </tr>\n",
       "    <tr>\n",
       "      <th>2999790</th>\n",
       "      <td>Perelandra: A Novel</td>\n",
       "      <td>['C.S. Lewis']</td>\n",
       "      <td>['Fiction']</td>\n",
       "      <td>B000HMK1SW</td>\n",
       "      <td>AZ9E3TNAKALCE</td>\n",
       "      <td>5.0</td>\n",
       "      <td>61.0</td>\n",
       "    </tr>\n",
       "    <tr>\n",
       "      <th>2999791</th>\n",
       "      <td>Perelandra: A Novel</td>\n",
       "      <td>['C.S. Lewis']</td>\n",
       "      <td>['Fiction']</td>\n",
       "      <td>B000HMK1SW</td>\n",
       "      <td>A1C3SYP3IDU0HP</td>\n",
       "      <td>5.0</td>\n",
       "      <td>61.0</td>\n",
       "    </tr>\n",
       "  </tbody>\n",
       "</table>\n",
       "<p>2999792 rows × 7 columns</p>\n",
       "</div>"
      ],
      "text/plain": [
       "                       Title           authors           categories  \\\n",
       "0             Never Cry Wolf  ['Farley Mowat']  ['Animal behavior']   \n",
       "1             Never Cry Wolf  ['Farley Mowat']  ['Animal behavior']   \n",
       "2             Never Cry Wolf  ['Farley Mowat']  ['Animal behavior']   \n",
       "3             Never Cry Wolf  ['Farley Mowat']  ['Animal behavior']   \n",
       "4             Never Cry Wolf  ['Farley Mowat']  ['Animal behavior']   \n",
       "...                      ...               ...                  ...   \n",
       "2999787  Perelandra: A Novel    ['C.S. Lewis']          ['Fiction']   \n",
       "2999788  Perelandra: A Novel    ['C.S. Lewis']          ['Fiction']   \n",
       "2999789  Perelandra: A Novel    ['C.S. Lewis']          ['Fiction']   \n",
       "2999790  Perelandra: A Novel    ['C.S. Lewis']          ['Fiction']   \n",
       "2999791  Perelandra: A Novel    ['C.S. Lewis']          ['Fiction']   \n",
       "\n",
       "                 Id         User_id  review/score  ratingsCount  \n",
       "0        0316586390  A3D5EO8SCPTX9W           5.0          34.0  \n",
       "1        0316586390  A24N8O90K345KV           5.0          34.0  \n",
       "2        0316586390  A2CF0A2HR4OS22           5.0          34.0  \n",
       "3        0316586390            None           5.0          34.0  \n",
       "4        0316586390  A1VXA74UYHCT9E           1.0          34.0  \n",
       "...             ...             ...           ...           ...  \n",
       "2999787  B000HMK1SW  A3P5U20M8V1MEX           5.0          61.0  \n",
       "2999788  B000HMK1SW   APD7XINUVG5AL           5.0          61.0  \n",
       "2999789  B000HMK1SW  A1X4JO8EJ1U5BR           5.0          61.0  \n",
       "2999790  B000HMK1SW   AZ9E3TNAKALCE           5.0          61.0  \n",
       "2999791  B000HMK1SW  A1C3SYP3IDU0HP           5.0          61.0  \n",
       "\n",
       "[2999792 rows x 7 columns]"
      ]
     },
     "execution_count": 47,
     "metadata": {},
     "output_type": "execute_result"
    }
   ],
   "source": [
    "df_merged"
   ]
  },
  {
   "cell_type": "code",
   "execution_count": 48,
   "id": "c40c4d88",
   "metadata": {},
   "outputs": [
    {
     "data": {
      "text/plain": [
       "Title                 0\n",
       "authors          390634\n",
       "categories       551290\n",
       "Id                    0\n",
       "User_id          561774\n",
       "review/score          0\n",
       "ratingsCount    1360694\n",
       "dtype: int64"
      ]
     },
     "execution_count": 48,
     "metadata": {},
     "output_type": "execute_result"
    }
   ],
   "source": [
    "df_merged.isna().sum()"
   ]
  },
  {
   "cell_type": "markdown",
   "id": "53db4277",
   "metadata": {},
   "source": [
    "I'm going to do here everything that i did before, just refactoring from Pandas to SQL.\n",
    "\n",
    "\"but you are still using pandas\"\n",
    "\n",
    "Yes, I am, but the point of using duckdb to simulate a database is to facilitate. We can't use and it's not realistic focusing only on pandas or polars. \n",
    "\n",
    "I'm currently testing Duckdb with pandas because in the previous version of this project i had to use pandas. Polars is not so flexibe right now.\n",
    "\n",
    "This notebook will test and then I will refactor the code"
   ]
  },
  {
   "cell_type": "code",
   "execution_count": 49,
   "id": "939b77e8",
   "metadata": {},
   "outputs": [],
   "source": [
    "df_merged['categories'] = df_merged['categories'].fillna('No Category')\n",
    "\n",
    "df_merged['ratingsCount'] = df_merged['ratingsCount'].fillna(0)\n"
   ]
  },
  {
   "cell_type": "code",
   "execution_count": null,
   "id": "d12f227d",
   "metadata": {
    "execution": {
     "iopub.execute_input": "2025-07-04T21:38:35.004595Z",
     "iopub.status.busy": "2025-07-04T21:38:35.004378Z",
     "iopub.status.idle": "2025-07-04T21:38:45.013794Z",
     "shell.execute_reply": "2025-07-04T21:38:45.013193Z"
    },
    "papermill": {
     "duration": 10.019368,
     "end_time": "2025-07-04T21:38:45.015152",
     "exception": false,
     "start_time": "2025-07-04T21:38:34.995784",
     "status": "completed"
    },
    "tags": []
   },
   "outputs": [
    {
     "name": "stdout",
     "output_type": "stream",
     "text": [
      "n_users = 1008962, n_items = 221989\n"
     ]
    }
   ],
   "source": [
    "import pandas as pd\n",
    "from sklearn.preprocessing import OrdinalEncoder, StandardScaler, LabelEncoder\n",
    "import numpy as np\n",
    "import joblib\n",
    "\n",
    "# 0. Preprocessing the strings\n",
    "\n",
    "df_merged['categories'] = df_merged['categories'].str.replace('[', '', regex=False).str.replace(']', '', regex=False)\n",
    "df_merged['authors'] = df_merged['authors'].str.replace('[', '', regex=False).str.replace(']', '', regex=False)\n",
    "\n",
    "# 1. Ordinal Encoder\n",
    "\n",
    "encoder = joblib.load(r'C:\\Users\\lucas\\Documents\\GitHub\\Recommind\\models\\encoding_models\\ordinal_encoder.joblib')\n",
    "encoded = encoder.fit_transform(df_merged[['User_id', 'Id', 'categories', 'authors']].to_numpy())\n",
    "\n",
    "df_encoded = df_merged.copy()\n",
    "df_encoded['User_id'] = encoded[:, 0].astype(int)\n",
    "df_encoded['Id'] = encoded[:, 1].astype(int)\n",
    "df_encoded['categories'] = encoded[:, 2].astype(int)\n",
    "df_encoded['authors'] = encoded[:, 3].astype(int)\n",
    "\n",
    "\n",
    "df_encoded = df_encoded[(df_encoded['User_id'] != -1) & (df_encoded['Id'] != -1)]\n",
    "\n",
    "n_users = df_encoded['User_id'].max() + 1\n",
    "n_items = df_encoded['Id'].max() + 1\n",
    "\n",
    "print(f\"n_users = {n_users}, n_items = {n_items}\")\n"
   ]
  },
  {
   "cell_type": "markdown",
   "id": "aeea8593",
   "metadata": {},
   "source": [
    "End!\n",
    "\n",
    "The purpose of this notebook was testing Duckdb.\n",
    "\n",
    "\n"
   ]
  },
  {
   "cell_type": "code",
   "execution_count": null,
   "id": "ae74a2f3",
   "metadata": {},
   "outputs": [],
   "source": []
  }
 ],
 "metadata": {
  "kaggle": {
   "accelerator": "nvidiaTeslaT4",
   "dataSources": [
    {
     "datasetId": 2476732,
     "sourceId": 4200454,
     "sourceType": "datasetVersion"
    }
   ],
   "dockerImageVersionId": 31040,
   "isGpuEnabled": true,
   "isInternetEnabled": true,
   "language": "python",
   "sourceType": "notebook"
  },
  "kernelspec": {
   "display_name": "base",
   "language": "python",
   "name": "python3"
  },
  "language_info": {
   "codemirror_mode": {
    "name": "ipython",
    "version": 3
   },
   "file_extension": ".py",
   "mimetype": "text/x-python",
   "name": "python",
   "nbconvert_exporter": "python",
   "pygments_lexer": "ipython3",
   "version": "3.13.5"
  },
  "papermill": {
   "default_parameters": {},
   "duration": 976.76716,
   "end_time": "2025-07-04T21:53:40.240248",
   "environment_variables": {},
   "exception": null,
   "input_path": "__notebook__.ipynb",
   "output_path": "__notebook__.ipynb",
   "parameters": {},
   "start_time": "2025-07-04T21:37:23.473088",
   "version": "2.6.0"
  }
 },
 "nbformat": 4,
 "nbformat_minor": 5
}
